{
 "cells": [
  {
   "cell_type": "code",
   "execution_count": 3,
   "id": "80ce7df0-e161-42dd-8021-ac98e50a67d5",
   "metadata": {},
   "outputs": [],
   "source": [
    "import pandas as pd\n"
   ]
  },
  {
   "cell_type": "code",
   "execution_count": 4,
   "id": "9aabddde-c8c6-41ba-b039-0ea7410e0db7",
   "metadata": {},
   "outputs": [],
   "source": [
    "data=pd.read_csv(\"sample.csv\")\n"
   ]
  },
  {
   "cell_type": "code",
   "execution_count": 5,
   "id": "ac4c41b3-3f76-4f2c-be00-8b542d636514",
   "metadata": {},
   "outputs": [
    {
     "data": {
      "text/html": [
       "<div>\n",
       "<style scoped>\n",
       "    .dataframe tbody tr th:only-of-type {\n",
       "        vertical-align: middle;\n",
       "    }\n",
       "\n",
       "    .dataframe tbody tr th {\n",
       "        vertical-align: top;\n",
       "    }\n",
       "\n",
       "    .dataframe thead th {\n",
       "        text-align: right;\n",
       "    }\n",
       "</style>\n",
       "<table border=\"1\" class=\"dataframe\">\n",
       "  <thead>\n",
       "    <tr style=\"text-align: right;\">\n",
       "      <th></th>\n",
       "      <th>tweet_id</th>\n",
       "      <th>author_id</th>\n",
       "      <th>inbound</th>\n",
       "      <th>created_at</th>\n",
       "      <th>text</th>\n",
       "      <th>response_tweet_id</th>\n",
       "      <th>in_response_to_tweet_id</th>\n",
       "    </tr>\n",
       "  </thead>\n",
       "  <tbody>\n",
       "    <tr>\n",
       "      <th>0</th>\n",
       "      <td>119237</td>\n",
       "      <td>105834</td>\n",
       "      <td>True</td>\n",
       "      <td>Wed Oct 11 06:55:44 +0000 2017</td>\n",
       "      <td>@AppleSupport causing the reply to be disregar...</td>\n",
       "      <td>119236</td>\n",
       "      <td>NaN</td>\n",
       "    </tr>\n",
       "    <tr>\n",
       "      <th>1</th>\n",
       "      <td>119238</td>\n",
       "      <td>ChaseSupport</td>\n",
       "      <td>False</td>\n",
       "      <td>Wed Oct 11 13:25:49 +0000 2017</td>\n",
       "      <td>@105835 Your business means a lot to us. Pleas...</td>\n",
       "      <td>NaN</td>\n",
       "      <td>119239.0</td>\n",
       "    </tr>\n",
       "    <tr>\n",
       "      <th>2</th>\n",
       "      <td>119239</td>\n",
       "      <td>105835</td>\n",
       "      <td>True</td>\n",
       "      <td>Wed Oct 11 13:00:09 +0000 2017</td>\n",
       "      <td>@76328 I really hope you all change but I'm su...</td>\n",
       "      <td>119238</td>\n",
       "      <td>NaN</td>\n",
       "    </tr>\n",
       "    <tr>\n",
       "      <th>3</th>\n",
       "      <td>119240</td>\n",
       "      <td>VirginTrains</td>\n",
       "      <td>False</td>\n",
       "      <td>Tue Oct 10 15:16:08 +0000 2017</td>\n",
       "      <td>@105836 LiveChat is online at the moment - htt...</td>\n",
       "      <td>119241</td>\n",
       "      <td>119242.0</td>\n",
       "    </tr>\n",
       "    <tr>\n",
       "      <th>4</th>\n",
       "      <td>119241</td>\n",
       "      <td>105836</td>\n",
       "      <td>True</td>\n",
       "      <td>Tue Oct 10 15:17:21 +0000 2017</td>\n",
       "      <td>@VirginTrains see attached error message. I've...</td>\n",
       "      <td>119243</td>\n",
       "      <td>119240.0</td>\n",
       "    </tr>\n",
       "  </tbody>\n",
       "</table>\n",
       "</div>"
      ],
      "text/plain": [
       "   tweet_id     author_id  inbound                      created_at  \\\n",
       "0    119237        105834     True  Wed Oct 11 06:55:44 +0000 2017   \n",
       "1    119238  ChaseSupport    False  Wed Oct 11 13:25:49 +0000 2017   \n",
       "2    119239        105835     True  Wed Oct 11 13:00:09 +0000 2017   \n",
       "3    119240  VirginTrains    False  Tue Oct 10 15:16:08 +0000 2017   \n",
       "4    119241        105836     True  Tue Oct 10 15:17:21 +0000 2017   \n",
       "\n",
       "                                                text response_tweet_id  \\\n",
       "0  @AppleSupport causing the reply to be disregar...            119236   \n",
       "1  @105835 Your business means a lot to us. Pleas...               NaN   \n",
       "2  @76328 I really hope you all change but I'm su...            119238   \n",
       "3  @105836 LiveChat is online at the moment - htt...            119241   \n",
       "4  @VirginTrains see attached error message. I've...            119243   \n",
       "\n",
       "   in_response_to_tweet_id  \n",
       "0                      NaN  \n",
       "1                 119239.0  \n",
       "2                      NaN  \n",
       "3                 119242.0  \n",
       "4                 119240.0  "
      ]
     },
     "execution_count": 5,
     "metadata": {},
     "output_type": "execute_result"
    }
   ],
   "source": [
    "data.head()"
   ]
  },
  {
   "cell_type": "code",
   "execution_count": 19,
   "id": "af2226e9-042a-4be9-8b16-f9afd21d947c",
   "metadata": {},
   "outputs": [],
   "source": [
    " text1=data[\"text\"][10]"
   ]
  },
  {
   "cell_type": "code",
   "execution_count": 20,
   "id": "1a78f199-4d40-4968-8944-1d71a884e047",
   "metadata": {},
   "outputs": [
    {
     "data": {
      "text/plain": [
       "'@105837 We can help. Which version of iOS are you on? You can find that in Settings &gt; General &gt; About. Reply in DM. https://t.co/GDrqU22YpT'"
      ]
     },
     "execution_count": 20,
     "metadata": {},
     "output_type": "execute_result"
    }
   ],
   "source": [
    "text1"
   ]
  },
  {
   "cell_type": "code",
   "execution_count": 8,
   "id": "5c5de98f-e8c5-4789-b111-527d699d1757",
   "metadata": {},
   "outputs": [
    {
     "data": {
      "text/plain": [
       "'@105837 we can help. which version of ios are you on? you can find that in settings &gt; general &gt; about. reply in dm. https://t.co/gdrqu22ypt'"
      ]
     },
     "execution_count": 8,
     "metadata": {},
     "output_type": "execute_result"
    }
   ],
   "source": [
    "data[\"text\"][10].lower()"
   ]
  },
  {
   "cell_type": "code",
   "execution_count": 9,
   "id": "115896ba-bae5-4592-a200-da7b081a791a",
   "metadata": {},
   "outputs": [
    {
     "data": {
      "text/plain": [
       "(93, 7)"
      ]
     },
     "execution_count": 9,
     "metadata": {},
     "output_type": "execute_result"
    }
   ],
   "source": [
    "data.shape"
   ]
  },
  {
   "cell_type": "code",
   "execution_count": 10,
   "id": "f906a1c1-9761-4dbb-b56e-a023833eb61b",
   "metadata": {},
   "outputs": [
    {
     "data": {
      "text/plain": [
       "0     @applesupport causing the reply to be disregar...\n",
       "1     @105835 your business means a lot to us. pleas...\n",
       "2     @76328 i really hope you all change but i'm su...\n",
       "3     @105836 livechat is online at the moment - htt...\n",
       "4     @virgintrains see attached error message. i've...\n",
       "                            ...                        \n",
       "88    @105860 i wish amazon had an option of where i...\n",
       "89    they reschedule my shit for tomorrow https://t...\n",
       "90    @105861 hey sara, sorry to hear of the issues ...\n",
       "91    @tesco bit of both - finding the layout cumber...\n",
       "92    @105861 if that doesn't help please dm your fu...\n",
       "Name: text, Length: 93, dtype: object"
      ]
     },
     "execution_count": 10,
     "metadata": {},
     "output_type": "execute_result"
    }
   ],
   "source": [
    "data[\"text\"].str.lower()"
   ]
  },
  {
   "cell_type": "code",
   "execution_count": null,
   "id": "219c6e52-cd8e-4475-9b52-fbc816602c07",
   "metadata": {},
   "outputs": [],
   "source": [
    "# remove html tags"
   ]
  },
  {
   "cell_type": "code",
   "execution_count": 11,
   "id": "d698d27e-9e38-4773-b317-23cc061f82b1",
   "metadata": {},
   "outputs": [],
   "source": [
    "import re"
   ]
  },
  {
   "cell_type": "code",
   "execution_count": 25,
   "id": "ae1b7993-563c-4d81-9f3e-49d5012d7066",
   "metadata": {},
   "outputs": [],
   "source": [
    "def remove_html_tags(text):\n",
    "    pattern=re.compile('<.*?>')\n",
    "    return pattern.sub(\" \", text)"
   ]
  },
  {
   "cell_type": "code",
   "execution_count": 26,
   "id": "c0767901-f34b-417b-b561-2d72d7440ec5",
   "metadata": {},
   "outputs": [
    {
     "data": {
      "text/plain": [
       "'@105837 We can help. Which version of iOS are you on? You can find that in Settings &gt; General &gt; About. Reply in DM. https://t.co/GDrqU22YpT'"
      ]
     },
     "execution_count": 26,
     "metadata": {},
     "output_type": "execute_result"
    }
   ],
   "source": [
    "remove_html_tags(text1)"
   ]
  },
  {
   "cell_type": "code",
   "execution_count": 27,
   "id": "e87b5c91-aa66-4094-acf6-648c5eca8727",
   "metadata": {},
   "outputs": [
    {
     "data": {
      "text/plain": [
       "0     @AppleSupport causing the reply to be disregar...\n",
       "1     @105835 Your business means a lot to us. Pleas...\n",
       "2     @76328 I really hope you all change but I'm su...\n",
       "3     @105836 LiveChat is online at the moment - htt...\n",
       "4     @VirginTrains see attached error message. I've...\n",
       "                            ...                        \n",
       "88    @105860 I wish Amazon had an option of where I...\n",
       "89    They reschedule my shit for tomorrow https://t...\n",
       "90    @105861 Hey Sara, sorry to hear of the issues ...\n",
       "91    @Tesco bit of both - finding the layout cumber...\n",
       "92    @105861 If that doesn't help please DM your fu...\n",
       "Name: text, Length: 93, dtype: object"
      ]
     },
     "execution_count": 27,
     "metadata": {},
     "output_type": "execute_result"
    }
   ],
   "source": [
    "data[\"text\"].apply(remove_html_tags)"
   ]
  },
  {
   "cell_type": "code",
   "execution_count": 28,
   "id": "ebe13f15-9a4c-4d2b-a54d-a85c5d5fb7c7",
   "metadata": {},
   "outputs": [],
   "source": [
    "def remove_url(text):\n",
    "    pattern=re.compile(r'https?://\\S+|www\\.\\S+')\n",
    "    return pattern.sub(\"\",text)"
   ]
  },
  {
   "cell_type": "code",
   "execution_count": 29,
   "id": "41324add-0698-4b77-82a5-03d0e0cf8d0d",
   "metadata": {},
   "outputs": [
    {
     "data": {
      "text/plain": [
       "0     @AppleSupport causing the reply to be disregar...\n",
       "1     @105835 Your business means a lot to us. Pleas...\n",
       "2     @76328 I really hope you all change but I'm su...\n",
       "3     @105836 LiveChat is online at the moment -  or...\n",
       "4     @VirginTrains see attached error message. I've...\n",
       "                            ...                        \n",
       "88    @105860 I wish Amazon had an option of where I...\n",
       "89                They reschedule my shit for tomorrow \n",
       "90    @105861 Hey Sara, sorry to hear of the issues ...\n",
       "91    @Tesco bit of both - finding the layout cumber...\n",
       "92    @105861 If that doesn't help please DM your fu...\n",
       "Name: text, Length: 93, dtype: object"
      ]
     },
     "execution_count": 29,
     "metadata": {},
     "output_type": "execute_result"
    }
   ],
   "source": [
    "data[\"text\"].apply(remove_url)"
   ]
  },
  {
   "cell_type": "code",
   "execution_count": 31,
   "id": "1e2b21c8-65c0-4b5d-8cc3-e7e3014f7839",
   "metadata": {},
   "outputs": [
    {
     "data": {
      "text/plain": [
       "'@105837 We can help. Which version of iOS are you on? You can find that in Settings &gt; General &gt; About. Reply in DM. https://t.co/GDrqU22YpT'"
      ]
     },
     "execution_count": 31,
     "metadata": {},
     "output_type": "execute_result"
    }
   ],
   "source": [
    "text"
   ]
  },
  {
   "cell_type": "code",
   "execution_count": 34,
   "id": "f5074be5-e48e-4937-8b41-7384b45069a2",
   "metadata": {},
   "outputs": [],
   "source": [
    "import string"
   ]
  },
  {
   "cell_type": "code",
   "execution_count": 35,
   "id": "1b88a6ee-eeb1-4e90-a076-65b037348b02",
   "metadata": {},
   "outputs": [
    {
     "data": {
      "text/plain": [
       "'!\"#$%&\\'()*+,-./:;<=>?@[\\\\]^_`{|}~'"
      ]
     },
     "execution_count": 35,
     "metadata": {},
     "output_type": "execute_result"
    }
   ],
   "source": [
    "string.punctuation"
   ]
  },
  {
   "cell_type": "code",
   "execution_count": 36,
   "id": "09e4316b-344f-4447-8612-69e6e728382e",
   "metadata": {},
   "outputs": [],
   "source": [
    "exclude=string.punctuation"
   ]
  },
  {
   "cell_type": "code",
   "execution_count": 38,
   "id": "0b8a5c22-351d-4778-9ce0-a913c9a20fe2",
   "metadata": {},
   "outputs": [],
   "source": [
    "def remove_punc(text):\n",
    "    for char in exclude:\n",
    "        text=text.replace(char,\"\")\n",
    "    return text\n",
    "    "
   ]
  },
  {
   "cell_type": "code",
   "execution_count": 39,
   "id": "938b3b96-6c39-41ad-8efe-882bebc398c3",
   "metadata": {},
   "outputs": [],
   "source": [
    "text2=\"my name vineet so##n#$#@!$%^&^%&$^%$%#^$^$%&%*^*^*^*%&$^#%NI!!!!!!!!!\""
   ]
  },
  {
   "cell_type": "code",
   "execution_count": 40,
   "id": "69259fe6-b756-4044-adfc-9a776bf521c3",
   "metadata": {},
   "outputs": [
    {
     "data": {
      "text/plain": [
       "'my name vineet sonNI'"
      ]
     },
     "execution_count": 40,
     "metadata": {},
     "output_type": "execute_result"
    }
   ],
   "source": [
    "remove_punc(text2)"
   ]
  },
  {
   "cell_type": "code",
   "execution_count": 41,
   "id": "83d9bf93-8c46-4c80-a1a5-1da878387819",
   "metadata": {},
   "outputs": [
    {
     "data": {
      "text/plain": [
       "0     AppleSupport causing the reply to be disregard...\n",
       "1     105835 Your business means a lot to us Please ...\n",
       "2     76328 I really hope you all change but Im sure...\n",
       "3     105836 LiveChat is online at the moment  https...\n",
       "4     VirginTrains see attached error message Ive tr...\n",
       "                            ...                        \n",
       "88    105860 I wish Amazon had an option of where I ...\n",
       "89    They reschedule my shit for tomorrow httpstcoR...\n",
       "90    105861 Hey Sara sorry to hear of the issues yo...\n",
       "91    Tesco bit of both  finding the layout cumberso...\n",
       "92    105861 If that doesnt help please DM your full...\n",
       "Name: text, Length: 93, dtype: object"
      ]
     },
     "execution_count": 41,
     "metadata": {},
     "output_type": "execute_result"
    }
   ],
   "source": [
    "data[\"text\"].apply(remove_punc)"
   ]
  },
  {
   "cell_type": "code",
   "execution_count": 44,
   "id": "7c20d1e8-c332-4bd2-b9a0-e89267db2f2b",
   "metadata": {},
   "outputs": [
    {
     "name": "stderr",
     "output_type": "stream",
     "text": [
      "[nltk_data] Downloading package punkt to\n",
      "[nltk_data]     C:\\Users\\vinee\\AppData\\Roaming\\nltk_data...\n",
      "[nltk_data]   Package punkt is already up-to-date!\n"
     ]
    },
    {
     "data": {
      "text/plain": [
       "True"
      ]
     },
     "execution_count": 44,
     "metadata": {},
     "output_type": "execute_result"
    }
   ],
   "source": [
    "nltk.download(\"punkt\")"
   ]
  },
  {
   "cell_type": "code",
   "execution_count": 43,
   "id": "cf1c9b35-62d7-45d6-b628-62ee5e3addb7",
   "metadata": {},
   "outputs": [],
   "source": [
    "import nltk"
   ]
  },
  {
   "cell_type": "code",
   "execution_count": 45,
   "id": "ec3c4418-baa7-483f-860a-833fc7fd130a",
   "metadata": {},
   "outputs": [],
   "source": [
    "from nltk.tokenize import word_tokenize,sent_tokenize"
   ]
  },
  {
   "cell_type": "code",
   "execution_count": 46,
   "id": "c6b68cca-1f0f-4112-8ad0-0d8dcfe1cf56",
   "metadata": {},
   "outputs": [
    {
     "data": {
      "text/plain": [
       "['@',\n",
       " '105837',\n",
       " 'We',\n",
       " 'can',\n",
       " 'help',\n",
       " '.',\n",
       " 'Which',\n",
       " 'version',\n",
       " 'of',\n",
       " 'iOS',\n",
       " 'are',\n",
       " 'you',\n",
       " 'on',\n",
       " '?',\n",
       " 'You',\n",
       " 'can',\n",
       " 'find',\n",
       " 'that',\n",
       " 'in',\n",
       " 'Settings',\n",
       " '&',\n",
       " 'gt',\n",
       " ';',\n",
       " 'General',\n",
       " '&',\n",
       " 'gt',\n",
       " ';',\n",
       " 'About',\n",
       " '.',\n",
       " 'Reply',\n",
       " 'in',\n",
       " 'DM',\n",
       " '.',\n",
       " 'https',\n",
       " ':',\n",
       " '//t.co/GDrqU22YpT']"
      ]
     },
     "execution_count": 46,
     "metadata": {},
     "output_type": "execute_result"
    }
   ],
   "source": [
    "word_tokenize(text1)"
   ]
  },
  {
   "cell_type": "code",
   "execution_count": 47,
   "id": "a252b80f-f3b7-40cb-b592-c57e7e0a7c65",
   "metadata": {},
   "outputs": [
    {
     "name": "stdout",
     "output_type": "stream",
     "text": [
      "Requirement already satisfied: spacy in c:\\users\\vinee\\anaconda3\\lib\\site-packages (3.7.4)\n",
      "Requirement already satisfied: spacy-legacy<3.1.0,>=3.0.11 in c:\\users\\vinee\\anaconda3\\lib\\site-packages (from spacy) (3.0.12)\n",
      "Requirement already satisfied: spacy-loggers<2.0.0,>=1.0.0 in c:\\users\\vinee\\anaconda3\\lib\\site-packages (from spacy) (1.0.5)\n",
      "Requirement already satisfied: murmurhash<1.1.0,>=0.28.0 in c:\\users\\vinee\\anaconda3\\lib\\site-packages (from spacy) (1.0.10)\n",
      "Requirement already satisfied: cymem<2.1.0,>=2.0.2 in c:\\users\\vinee\\anaconda3\\lib\\site-packages (from spacy) (2.0.8)\n",
      "Requirement already satisfied: preshed<3.1.0,>=3.0.2 in c:\\users\\vinee\\anaconda3\\lib\\site-packages (from spacy) (3.0.9)\n",
      "Requirement already satisfied: thinc<8.3.0,>=8.2.2 in c:\\users\\vinee\\anaconda3\\lib\\site-packages (from spacy) (8.2.3)\n",
      "Requirement already satisfied: wasabi<1.2.0,>=0.9.1 in c:\\users\\vinee\\anaconda3\\lib\\site-packages (from spacy) (1.1.2)\n",
      "Requirement already satisfied: srsly<3.0.0,>=2.4.3 in c:\\users\\vinee\\anaconda3\\lib\\site-packages (from spacy) (2.4.8)\n",
      "Requirement already satisfied: catalogue<2.1.0,>=2.0.6 in c:\\users\\vinee\\anaconda3\\lib\\site-packages (from spacy) (2.0.10)\n",
      "Requirement already satisfied: weasel<0.4.0,>=0.1.0 in c:\\users\\vinee\\anaconda3\\lib\\site-packages (from spacy) (0.3.4)\n",
      "Requirement already satisfied: typer<0.10.0,>=0.3.0 in c:\\users\\vinee\\anaconda3\\lib\\site-packages (from spacy) (0.9.4)\n",
      "Requirement already satisfied: smart-open<7.0.0,>=5.2.1 in c:\\users\\vinee\\anaconda3\\lib\\site-packages (from spacy) (5.2.1)\n",
      "Requirement already satisfied: tqdm<5.0.0,>=4.38.0 in c:\\users\\vinee\\anaconda3\\lib\\site-packages (from spacy) (4.65.0)\n",
      "Requirement already satisfied: requests<3.0.0,>=2.13.0 in c:\\users\\vinee\\anaconda3\\lib\\site-packages (from spacy) (2.31.0)\n",
      "Requirement already satisfied: pydantic!=1.8,!=1.8.1,<3.0.0,>=1.7.4 in c:\\users\\vinee\\anaconda3\\lib\\site-packages (from spacy) (1.10.12)\n",
      "Requirement already satisfied: jinja2 in c:\\users\\vinee\\anaconda3\\lib\\site-packages (from spacy) (3.1.3)\n",
      "Requirement already satisfied: setuptools in c:\\users\\vinee\\anaconda3\\lib\\site-packages (from spacy) (68.2.2)\n",
      "Requirement already satisfied: packaging>=20.0 in c:\\users\\vinee\\anaconda3\\lib\\site-packages (from spacy) (23.1)\n",
      "Requirement already satisfied: langcodes<4.0.0,>=3.2.0 in c:\\users\\vinee\\anaconda3\\lib\\site-packages (from spacy) (3.3.0)\n",
      "Requirement already satisfied: numpy>=1.19.0 in c:\\users\\vinee\\anaconda3\\lib\\site-packages (from spacy) (1.26.4)\n",
      "Requirement already satisfied: typing-extensions>=4.2.0 in c:\\users\\vinee\\anaconda3\\lib\\site-packages (from pydantic!=1.8,!=1.8.1,<3.0.0,>=1.7.4->spacy) (4.9.0)\n",
      "Requirement already satisfied: charset-normalizer<4,>=2 in c:\\users\\vinee\\anaconda3\\lib\\site-packages (from requests<3.0.0,>=2.13.0->spacy) (2.0.4)\n",
      "Requirement already satisfied: idna<4,>=2.5 in c:\\users\\vinee\\anaconda3\\lib\\site-packages (from requests<3.0.0,>=2.13.0->spacy) (3.4)\n",
      "Requirement already satisfied: urllib3<3,>=1.21.1 in c:\\users\\vinee\\anaconda3\\lib\\site-packages (from requests<3.0.0,>=2.13.0->spacy) (2.0.7)\n",
      "Requirement already satisfied: certifi>=2017.4.17 in c:\\users\\vinee\\anaconda3\\lib\\site-packages (from requests<3.0.0,>=2.13.0->spacy) (2024.2.2)\n",
      "Requirement already satisfied: blis<0.8.0,>=0.7.8 in c:\\users\\vinee\\anaconda3\\lib\\site-packages (from thinc<8.3.0,>=8.2.2->spacy) (0.7.11)\n",
      "Requirement already satisfied: confection<1.0.0,>=0.0.1 in c:\\users\\vinee\\anaconda3\\lib\\site-packages (from thinc<8.3.0,>=8.2.2->spacy) (0.1.4)\n",
      "Requirement already satisfied: colorama in c:\\users\\vinee\\anaconda3\\lib\\site-packages (from tqdm<5.0.0,>=4.38.0->spacy) (0.4.6)\n",
      "Requirement already satisfied: click<9.0.0,>=7.1.1 in c:\\users\\vinee\\anaconda3\\lib\\site-packages (from typer<0.10.0,>=0.3.0->spacy) (8.1.7)\n",
      "Requirement already satisfied: cloudpathlib<0.17.0,>=0.7.0 in c:\\users\\vinee\\anaconda3\\lib\\site-packages (from weasel<0.4.0,>=0.1.0->spacy) (0.16.0)\n",
      "Requirement already satisfied: MarkupSafe>=2.0 in c:\\users\\vinee\\anaconda3\\lib\\site-packages (from jinja2->spacy) (2.1.3)\n",
      "Note: you may need to restart the kernel to use updated packages.\n"
     ]
    }
   ],
   "source": [
    "pip install spacy"
   ]
  },
  {
   "cell_type": "code",
   "execution_count": 48,
   "id": "369978d6-1cfe-4b2a-80d5-89a582d38a8f",
   "metadata": {},
   "outputs": [],
   "source": [
    "import spacy\n",
    "\n",
    "nlp = spacy.load(\"en_core_web_sm\")"
   ]
  },
  {
   "cell_type": "code",
   "execution_count": 49,
   "id": "a165ef3d-fe8f-48ab-b731-35934523ca7d",
   "metadata": {},
   "outputs": [],
   "source": [
    "def tokenize_text(text):\n",
    "    # Process the text with the spacy model\n",
    "    doc = nlp(text)\n",
    "    \n",
    "    # Extract tokens from the processed document\n",
    "    tokens = [token.text for token in doc]\n",
    "    \n",
    "    return tokens"
   ]
  },
  {
   "cell_type": "code",
   "execution_count": 58,
   "id": "3173add3-4c67-4b30-8ac6-461068bfaad9",
   "metadata": {},
   "outputs": [
    {
     "data": {
      "text/plain": [
       "0     [@AppleSupport, causing, the, reply, to, be, d...\n",
       "1     [@105835, Your, business, means, a, lot, to, u...\n",
       "2     [@76328, I, really, hope, you, all, change, bu...\n",
       "3     [@105836, LiveChat, is, online, at, the, momen...\n",
       "4     [@VirginTrains, see, attached, error, message,...\n",
       "                            ...                        \n",
       "88    [@105860, I, wish, Amazon, had, an, option, of...\n",
       "89    [They, reschedule, my, shit, for, tomorrow, ht...\n",
       "90    [@105861, Hey, Sara, ,, sorry, to, hear, of, t...\n",
       "91    [@Tesco, bit, of, both, -, finding, the, layou...\n",
       "92    [@105861, If, that, does, n't, help, please, D...\n",
       "Name: text, Length: 93, dtype: object"
      ]
     },
     "execution_count": 58,
     "metadata": {},
     "output_type": "execute_result"
    }
   ],
   "source": [
    "data[\"text\"].apply(tokenize_text)"
   ]
  },
  {
   "cell_type": "code",
   "execution_count": 50,
   "id": "ac126fde-b6b9-4a8e-bb8c-1fb61fd497a8",
   "metadata": {},
   "outputs": [],
   "source": [
    "from nltk.stem import PorterStemmer\n",
    "\n",
    "def stemming(text):\n",
    "    obj=PorterStemmer()\n",
    "\n",
    "    stem_word=[obj.stem(word) for word in text.split()]\n",
    "\n",
    "    return stem_word"
   ]
  },
  {
   "cell_type": "code",
   "execution_count": 52,
   "id": "d69773e5-0629-487d-a804-e213b2aaf25f",
   "metadata": {},
   "outputs": [
    {
     "data": {
      "text/plain": [
       "['@105837',\n",
       " 'we',\n",
       " 'can',\n",
       " 'help.',\n",
       " 'which',\n",
       " 'version',\n",
       " 'of',\n",
       " 'io',\n",
       " 'are',\n",
       " 'you',\n",
       " 'on?',\n",
       " 'you',\n",
       " 'can',\n",
       " 'find',\n",
       " 'that',\n",
       " 'in',\n",
       " 'set',\n",
       " '&gt;',\n",
       " 'gener',\n",
       " '&gt;',\n",
       " 'about.',\n",
       " 'repli',\n",
       " 'in',\n",
       " 'dm.',\n",
       " 'https://t.co/gdrqu22ypt']"
      ]
     },
     "execution_count": 52,
     "metadata": {},
     "output_type": "execute_result"
    }
   ],
   "source": [
    "stemming(text1)"
   ]
  },
  {
   "cell_type": "code",
   "execution_count": 56,
   "id": "a9b09e1c-53c0-444c-93fd-2a5e22d2ebe6",
   "metadata": {},
   "outputs": [
    {
     "data": {
      "text/plain": [
       "0     [@applesupport, caus, the, repli, to, be, disr...\n",
       "1     [@105835, your, busi, mean, a, lot, to, us., p...\n",
       "2     [@76328, i, realli, hope, you, all, chang, but...\n",
       "3     [@105836, livechat, is, onlin, at, the, moment...\n",
       "4     [@virgintrain, see, attach, error, message., i...\n",
       "                            ...                        \n",
       "88    [@105860, i, wish, amazon, had, an, option, of...\n",
       "89    [they, reschedul, my, shit, for, tomorrow, htt...\n",
       "90    [@105861, hey, sara,, sorri, to, hear, of, the...\n",
       "91    [@tesco, bit, of, both, -, find, the, layout, ...\n",
       "92    [@105861, if, that, doesn't, help, pleas, dm, ...\n",
       "Name: text, Length: 93, dtype: object"
      ]
     },
     "execution_count": 56,
     "metadata": {},
     "output_type": "execute_result"
    }
   ],
   "source": [
    "data[\"text\"].apply(stemming)"
   ]
  },
  {
   "cell_type": "code",
   "execution_count": 53,
   "id": "652265ee-c7be-4763-b205-0d780d7417a6",
   "metadata": {},
   "outputs": [
    {
     "name": "stderr",
     "output_type": "stream",
     "text": [
      "[nltk_data] Downloading package wordnet to\n",
      "[nltk_data]     C:\\Users\\vinee\\AppData\\Roaming\\nltk_data...\n",
      "[nltk_data]   Package wordnet is already up-to-date!\n"
     ]
    },
    {
     "data": {
      "text/plain": [
       "True"
      ]
     },
     "execution_count": 53,
     "metadata": {},
     "output_type": "execute_result"
    }
   ],
   "source": [
    "nltk.download('wordnet')"
   ]
  },
  {
   "cell_type": "code",
   "execution_count": 54,
   "id": "ba2890d3-8a2f-418a-87b0-81c6642522a5",
   "metadata": {},
   "outputs": [],
   "source": [
    "from nltk.stem import WordNetLemmatizer\n",
    "\n",
    "def lammatization(text):\n",
    "    words=text.split()\n",
    "\n",
    "    lemmetizer=WordNetLemmatizer()\n",
    "\n",
    "    lemetized_word=[lemmetizer.lemmatize(word) for word in words]\n",
    "    \n",
    "    return lemetized_word"
   ]
  },
  {
   "cell_type": "code",
   "execution_count": 55,
   "id": "dbe3e951-174d-45c9-8f91-ccdbd5feafe0",
   "metadata": {},
   "outputs": [
    {
     "data": {
      "text/plain": [
       "['@105837',\n",
       " 'We',\n",
       " 'can',\n",
       " 'help.',\n",
       " 'Which',\n",
       " 'version',\n",
       " 'of',\n",
       " 'iOS',\n",
       " 'are',\n",
       " 'you',\n",
       " 'on?',\n",
       " 'You',\n",
       " 'can',\n",
       " 'find',\n",
       " 'that',\n",
       " 'in',\n",
       " 'Settings',\n",
       " '&gt;',\n",
       " 'General',\n",
       " '&gt;',\n",
       " 'About.',\n",
       " 'Reply',\n",
       " 'in',\n",
       " 'DM.',\n",
       " 'https://t.co/GDrqU22YpT']"
      ]
     },
     "execution_count": 55,
     "metadata": {},
     "output_type": "execute_result"
    }
   ],
   "source": [
    "\n",
    "lammatization(text)"
   ]
  },
  {
   "cell_type": "code",
   "execution_count": 57,
   "id": "6b6fe49c-ed6d-4756-a94b-82f98eb09c17",
   "metadata": {},
   "outputs": [
    {
     "data": {
      "text/plain": [
       "0     [@AppleSupport, causing, the, reply, to, be, d...\n",
       "1     [@105835, Your, business, mean, a, lot, to, us...\n",
       "2     [@76328, I, really, hope, you, all, change, bu...\n",
       "3     [@105836, LiveChat, is, online, at, the, momen...\n",
       "4     [@VirginTrains, see, attached, error, message....\n",
       "                            ...                        \n",
       "88    [@105860, I, wish, Amazon, had, an, option, of...\n",
       "89    [They, reschedule, my, shit, for, tomorrow, ht...\n",
       "90    [@105861, Hey, Sara,, sorry, to, hear, of, the...\n",
       "91    [@Tesco, bit, of, both, -, finding, the, layou...\n",
       "92    [@105861, If, that, doesn't, help, please, DM,...\n",
       "Name: text, Length: 93, dtype: object"
      ]
     },
     "execution_count": 57,
     "metadata": {},
     "output_type": "execute_result"
    }
   ],
   "source": [
    "data[\"text\"].apply(lammatization)"
   ]
  },
  {
   "cell_type": "code",
   "execution_count": null,
   "id": "19074a9f-b90a-427f-b443-7724ce38c3b7",
   "metadata": {},
   "outputs": [],
   "source": []
  }
 ],
 "metadata": {
  "kernelspec": {
   "display_name": "Python 3 (ipykernel)",
   "language": "python",
   "name": "python3"
  },
  "language_info": {
   "codemirror_mode": {
    "name": "ipython",
    "version": 3
   },
   "file_extension": ".py",
   "mimetype": "text/x-python",
   "name": "python",
   "nbconvert_exporter": "python",
   "pygments_lexer": "ipython3",
   "version": "3.11.7"
  }
 },
 "nbformat": 4,
 "nbformat_minor": 5
}
